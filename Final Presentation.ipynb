{
 "cells": [
  {
   "cell_type": "markdown",
   "id": "4ac987bf-b230-493a-aa3e-d639ba7319ed",
   "metadata": {},
   "source": [
    "# Project Presentation - Dec 4"
   ]
  },
  {
   "cell_type": "markdown",
   "id": "b6b11dc8-8478-4f99-baa4-935ed74d0fa7",
   "metadata": {},
   "source": [
    "### 1. Abstract/Summary\n",
    "    "
   ]
  },
  {
   "cell_type": "markdown",
   "metadata": {},
   "source": [
    "### 2. Methods\n",
    "\n",
    "    "
   ]
  },
  {
   "cell_type": "markdown",
   "metadata": {},
   "source": [
    "### 3. Flask App"
   ]
  }
 ],
 "metadata": {
  "kernelspec": {
   "display_name": "Python 3 (ipykernel)",
   "language": "python",
   "name": "python3"
  },
  "language_info": {
   "codemirror_mode": {
    "name": "ipython",
    "version": 3
   },
   "file_extension": ".py",
   "mimetype": "text/x-python",
   "name": "python",
   "nbconvert_exporter": "python",
   "pygments_lexer": "ipython3",
   "version": "3.11.4"
  }
 },
 "nbformat": 4,
 "nbformat_minor": 5
}
