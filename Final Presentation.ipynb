{
 "cells": [
  {
   "cell_type": "markdown",
   "id": "4ac987bf-b230-493a-aa3e-d639ba7319ed",
   "metadata": {},
   "source": [
    "# Project Presentation - Dec 4"
   ]
  },
  {
   "cell_type": "markdown",
   "id": "b6b11dc8-8478-4f99-baa4-935ed74d0fa7",
   "metadata": {},
   "source": [
    "### 1. Abstract/Summary\n",
    "    \n",
    "## Project Overview\n",
    "In this project, we present an enhanced car recommendation system that combines web scraping, user interaction, and real-time data to provide personalized car recommendations. Initially, we used BeautifulSoup to scrape car data from Kelly Blue Book, obtaining a comprehensive dataset that includes details such as seating capacity, fuel type, model, year, and make.\n",
    "\n",
    "The system prompts users to input their preferences for their \"dream car,\" allowing for customized filtering of the dataset. By integrating the previously demonstrated web scraping code for actual car listings, users are presented with real-time options to purchase their dream car.\n",
    "\n",
    "Throughout the project, we have prioritized user interaction, continuously refining our recommendation system based on feedback. The backend code handles data processing, cleaning, and filtering, ensuring a seamless and personalized experience for users.\n",
    "\n",
    "The live demonstration in this notebook illustrates the functionality of our car recommendation system, showcasing the progress made and emphasizing the user-centric design of our application.\n",
    "\n",
    "# Thank you for joining us on this journey!\n"
   ]
  },
  {
   "cell_type": "code",
   "execution_count": 1,
   "id": "ea6a6326-97cc-4e66-a515-7e5eb3c19f49",
   "metadata": {
    "tags": []
   },
   "outputs": [
    {
     "ename": "SyntaxError",
     "evalue": "unterminated string literal (detected at line 12) (4224830879.py, line 12)",
     "output_type": "error",
     "traceback": [
      "\u001b[0;36m  Cell \u001b[0;32mIn[1], line 12\u001b[0;36m\u001b[0m\n\u001b[0;31m    We utilize BeautifulSoup to scrape data from Kelly Blue Book's website. The scraped data includes essential details about cars, forming a comprehensive dataset.\u001b[0m\n\u001b[0m                                                                ^\u001b[0m\n\u001b[0;31mSyntaxError\u001b[0m\u001b[0;31m:\u001b[0m unterminated string literal (detected at line 12)\n"
     ]
    }
   ],
   "source": [
    "# Import necessary libraries\n",
    "from bs4 import BeautifulSoup\n",
    "import requests\n",
    "import pandas as pd\n",
    "\n",
    "# Abstract\n",
    "## Project Overview\n",
    "In this project, we aim to enhance our car recommendation system by incorporating data from Kelly Blue Book. We have expanded our web scraping efforts to gather comprehensive information about cars, including details such as seating capacity, fuel type, model, year, and make. Additionally, we prompt users to input their desired parameters for their \"dream car\" and filter the data accordingly. The goal is to provide users with personalized car recommendations based on their preferences.\n",
    "\n",
    "# Method\n",
    "## Web Scraping\n",
    "We utilize BeautifulSoup to scrape data from Kelly Blue Book's website. The scraped data includes essential details about cars, forming a comprehensive dataset.\n",
    "\n",
    "```python\n",
    "# Your web scraping code for Kelly Blue Book goes here\n",
    "# ...\n",
    "\n",
    "# Save the scraped data to a CSV file\n",
    "car_data.to_csv('kbb_car_data.csv', index=False)\n"
   ]
  },
  {
   "cell_type": "markdown",
   "id": "3e29b5f9",
   "metadata": {},
   "source": [
    "### 2. Journey\n",
    "\n"
   ]
  },
  {
   "cell_type": "markdown",
   "id": "59d46bd3-c9ef-435c-91c6-1003c258c022",
   "metadata": {},
   "source": [
    "# User Input and Filtering\n",
    "### Our initial approah was to prompt users to input their desired parameters for their dream car, such as minimum and maximum year, price, and minimum rating. Based on their input, we filter the dataset to provide a subset of cars that match their preferences."
   ]
  },
  {
   "cell_type": "code",
   "execution_count": 2,
   "id": "4750812e-49e0-4843-938b-9bc17ec6dfba",
   "metadata": {
    "tags": []
   },
   "outputs": [
    {
     "ename": "NameError",
     "evalue": "name 'car_data' is not defined",
     "output_type": "error",
     "traceback": [
      "\u001b[0;31m---------------------------------------------------------------------------\u001b[0m",
      "\u001b[0;31mNameError\u001b[0m                                 Traceback (most recent call last)",
      "Cell \u001b[0;32mIn[2], line 9\u001b[0m\n\u001b[1;32m      6\u001b[0m min_rating \u001b[38;5;241m=\u001b[39m \u001b[38;5;241m4.5\u001b[39m\n\u001b[1;32m      8\u001b[0m \u001b[38;5;66;03m# Filter the DataFrame based on user input\u001b[39;00m\n\u001b[0;32m----> 9\u001b[0m filtered_cars \u001b[38;5;241m=\u001b[39m car_data[\n\u001b[1;32m     10\u001b[0m     (car_data[\u001b[38;5;124m'\u001b[39m\u001b[38;5;124mYear\u001b[39m\u001b[38;5;124m'\u001b[39m]\u001b[38;5;241m.\u001b[39mbetween(min_year, max_year, inclusive\u001b[38;5;241m=\u001b[39m\u001b[38;5;124m'\u001b[39m\u001b[38;5;124mboth\u001b[39m\u001b[38;5;124m'\u001b[39m)) \u001b[38;5;241m&\u001b[39m\n\u001b[1;32m     11\u001b[0m     (car_data[\u001b[38;5;124m'\u001b[39m\u001b[38;5;124mPrice\u001b[39m\u001b[38;5;124m'\u001b[39m]\u001b[38;5;241m.\u001b[39mstr\u001b[38;5;241m.\u001b[39mreplace(\u001b[38;5;124m'\u001b[39m\u001b[38;5;124m[\u001b[39m\u001b[38;5;124m\\\u001b[39m\u001b[38;5;124m$,]\u001b[39m\u001b[38;5;124m'\u001b[39m, \u001b[38;5;124m'\u001b[39m\u001b[38;5;124m'\u001b[39m, regex\u001b[38;5;241m=\u001b[39m\u001b[38;5;28;01mTrue\u001b[39;00m)\u001b[38;5;241m.\u001b[39mastype(\u001b[38;5;28mfloat\u001b[39m)\u001b[38;5;241m.\u001b[39mbetween(min_price, max_price, inclusive\u001b[38;5;241m=\u001b[39m\u001b[38;5;124m'\u001b[39m\u001b[38;5;124mboth\u001b[39m\u001b[38;5;124m'\u001b[39m)) \u001b[38;5;241m&\u001b[39m\n\u001b[1;32m     12\u001b[0m     (pd\u001b[38;5;241m.\u001b[39mto_numeric(car_data[\u001b[38;5;124m'\u001b[39m\u001b[38;5;124mRating\u001b[39m\u001b[38;5;124m'\u001b[39m], errors\u001b[38;5;241m=\u001b[39m\u001b[38;5;124m'\u001b[39m\u001b[38;5;124mcoerce\u001b[39m\u001b[38;5;124m'\u001b[39m) \u001b[38;5;241m>\u001b[39m\u001b[38;5;241m=\u001b[39m min_rating)\n\u001b[1;32m     13\u001b[0m ]\n\u001b[1;32m     15\u001b[0m \u001b[38;5;66;03m# Display the filtered DataFrame\u001b[39;00m\n\u001b[1;32m     16\u001b[0m filtered_cars\n",
      "\u001b[0;31mNameError\u001b[0m: name 'car_data' is not defined"
     ]
    }
   ],
   "source": [
    "# Example of User Input\n",
    "min_year = 2020\n",
    "max_year = 2023\n",
    "min_price = 0\n",
    "max_price = 40000\n",
    "min_rating = 4.5\n",
    "\n",
    "# Filter the DataFrame based on user input\n",
    "filtered_cars = car_data[\n",
    "    (car_data['Year'].between(min_year, max_year, inclusive='both')) &\n",
    "    (car_data['Price'].str.replace('[\\$,]', '', regex=True).astype(float).between(min_price, max_price, inclusive='both')) &\n",
    "    (pd.to_numeric(car_data['Rating'], errors='coerce') >= min_rating)\n",
    "]\n",
    "\n",
    "# Display the filtered DataFrame\n",
    "filtered_cars\n"
   ]
  },
  {
   "cell_type": "markdown",
   "id": "f976a92f-0165-40b9-aea3-075bde410fd6",
   "metadata": {},
   "source": [
    "# Integration with Car Listings\n",
    "### We use the previously demonstrated code to scrape actual car listings, providing users with real-time options to purchase their dream car."
   ]
  },
  {
   "cell_type": "code",
   "execution_count": null,
   "id": "5cced247-a590-4f94-8f8c-3758c3aee739",
   "metadata": {
    "tags": []
   },
   "outputs": [],
   "source": [
    "# Your code for scraping car listings goes here\n",
    "# ...\n",
    "\n",
    "# Display the scraped car listings\n",
    "scraped_listings\n"
   ]
  },
  {
   "cell_type": "markdown",
   "id": "53b4a5d5-3487-4672-a6f4-5bef91a32a1f",
   "metadata": {},
   "source": [
    "# Feedback\n",
    "### User Interaction\n",
    "#### Throughout the development, we have focused on enhancing user interaction by allowing them to input their preferences. This not only provides a more personalized experience but also ensures that our recommendations align with their specific needs.\n",
    "\n",
    "### Continuous Improvement\n",
    "#### We welcome user feedback and aim to continuously improve our recommendation system. Future enhancements may include additional features, improved filtering options, and an even more user-friendly interface."
   ]
  },
  {
   "cell_type": "markdown",
   "id": "0ac0fd14",
   "metadata": {},
   "source": [
    "## 3. Flask App"
   ]
  },
  {
   "cell_type": "markdown",
   "id": "c7232951-62a1-447a-9c1e-5cbac811de06",
   "metadata": {},
   "source": [
    "### Backend Code Explanation\n",
    "#### Data Processing\n",
    "##### We process the scraped data, handle missing values, and clean the dataset to ensure accurate and reliable information."
   ]
  },
  {
   "cell_type": "code",
   "execution_count": null,
   "id": "0fc7d7d0-8af8-403a-bad9-ba4bed1001ab",
   "metadata": {
    "tags": []
   },
   "outputs": [],
   "source": [
    "# Data Cleaning\n",
    "# Convert the 'Year' column to integers and handle missing values ('n/a')\n",
    "car_data['Year'] = pd.to_numeric(car_data['Year'], errors='coerce').astype('Int64')\n",
    "\n",
    "# Display the cleaned DataFrame\n",
    "car_data\n"
   ]
  },
  {
   "cell_type": "markdown",
   "id": "50f4d3d4-f017-45a7-9a96-52ec16751c32",
   "metadata": {},
   "source": [
    "### Filtering Logic\n",
    "#### Our filtering logic involves using user input to narrow down the dataset, providing a tailored list of cars that match their criteria."
   ]
  },
  {
   "cell_type": "code",
   "execution_count": null,
   "id": "b54cc07c-b211-449c-b2f3-b5f6e4be0f92",
   "metadata": {
    "tags": []
   },
   "outputs": [],
   "source": [
    "# Filtering Logic\n",
    "user_input = get_user_input()  # Implement a function to get user input\n",
    "filtered_cars = filter_cars(car_data, user_input)  # Implement a function to filter cars\n",
    "\n",
    "# Display the filtered DataFrame\n",
    "filtered_cars\n"
   ]
  },
  {
   "cell_type": "markdown",
   "id": "f95696b1-fd22-4667-83d5-e4581f110a44",
   "metadata": {},
   "source": [
    "# 4. Running the App\n",
    "### Live Demonstration\n",
    "#### Let's run the app and demonstrate how users can interact with it to find their dream car."
   ]
  },
  {
   "cell_type": "code",
   "execution_count": 3,
   "id": "ee5a9399-8d4c-4620-ac94-fd5c0c0ad37f",
   "metadata": {
    "tags": []
   },
   "outputs": [],
   "source": [
    "# Your code to run the app goes here\n",
    "# ...\n"
   ]
  },
  {
   "cell_type": "code",
   "execution_count": null,
   "id": "0f401e75-caf2-42c8-ba65-a64b98d369ce",
   "metadata": {},
   "outputs": [],
   "source": []
  }
 ],
 "metadata": {
  "kernelspec": {
   "display_name": "Python 3 (ipykernel)",
   "language": "python",
   "name": "python3"
  },
  "language_info": {
   "codemirror_mode": {
    "name": "ipython",
    "version": 3
   },
   "file_extension": ".py",
   "mimetype": "text/x-python",
   "name": "python",
   "nbconvert_exporter": "python",
   "pygments_lexer": "ipython3",
   "version": "3.11.4"
  }
 },
 "nbformat": 4,
 "nbformat_minor": 5
}
