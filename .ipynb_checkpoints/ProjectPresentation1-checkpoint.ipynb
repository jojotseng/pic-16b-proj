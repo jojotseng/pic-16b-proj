{
 "cells": [
  {
   "cell_type": "markdown",
   "id": "cb6b838c-9258-4d06-846f-7596866375f4",
   "metadata": {},
   "source": [
    "# Project Presentation 1 - Nov 7"
   ]
  },
  {
   "cell_type": "markdown",
   "id": "c61420ca-3792-4848-b142-072c12c832f0",
   "metadata": {},
   "source": [
    "# 1. Webscraping"
   ]
  },
  {
   "cell_type": "code",
   "execution_count": null,
   "id": "4eed620a-103f-4960-9af0-c5b25e071d6b",
   "metadata": {},
   "outputs": [],
   "source": [
    "# For now, have only scraped cars.com"
   ]
  },
  {
   "cell_type": "code",
   "execution_count": 1,
   "id": "c518f704-7dde-4bb1-88b7-699426228267",
   "metadata": {
    "tags": []
   },
   "outputs": [],
   "source": [
    "#Code for Webscraping"
   ]
  },
  {
   "cell_type": "markdown",
   "id": "9e5a13cc-93df-40a1-a7a9-a657bcd0c188",
   "metadata": {},
   "source": [
    "# 2. Filtering/Cleaning Data"
   ]
  },
  {
   "cell_type": "code",
   "execution_count": 2,
   "id": "7724d922-390f-47ed-aa5c-3ace67ff69af",
   "metadata": {
    "tags": []
   },
   "outputs": [],
   "source": [
    "#Examples of User input\n",
    "\n",
    "#Show plots of table getting smaller"
   ]
  },
  {
   "cell_type": "markdown",
   "id": "0f4f7d5e-c129-40ba-a82a-290967f5ed74",
   "metadata": {},
   "source": [
    "# 3. Flask Web App"
   ]
  },
  {
   "cell_type": "markdown",
   "id": "b4641f1a-b5ac-408e-98c5-515ca6c00a39",
   "metadata": {},
   "source": [
    "#### In Progress\n",
    "\n",
    "#### Idea: A buzzfeed like quiz"
   ]
  },
  {
   "cell_type": "markdown",
   "id": "d342f868-7845-4be3-bc84-19d120f2ac2a",
   "metadata": {},
   "source": [
    "# Plan:\n",
    "#### To scrape additional websites (autotrader.com) for a larger dataset\n",
    "#### Adding more parameters \n",
    "#### Developing Web App with flask"
   ]
  },
  {
   "cell_type": "code",
   "execution_count": null,
   "id": "161bdfea-6dfc-4a7e-a579-e9dcd1af5fa8",
   "metadata": {},
   "outputs": [],
   "source": []
  }
 ],
 "metadata": {
  "kernelspec": {
   "display_name": "Python 3 (ipykernel)",
   "language": "python",
   "name": "python3"
  },
  "language_info": {
   "codemirror_mode": {
    "name": "ipython",
    "version": 3
   },
   "file_extension": ".py",
   "mimetype": "text/x-python",
   "name": "python",
   "nbconvert_exporter": "python",
   "pygments_lexer": "ipython3",
   "version": "3.9.18"
  }
 },
 "nbformat": 4,
 "nbformat_minor": 5
}
